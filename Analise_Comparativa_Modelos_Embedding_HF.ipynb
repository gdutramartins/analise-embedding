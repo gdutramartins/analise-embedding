{
  "nbformat": 4,
  "nbformat_minor": 0,
  "metadata": {
    "colab": {
      "provenance": [],
      "gpuType": "T4",
      "mount_file_id": "1JEPOOELBH26EkSxI2AS4uxMlVk-O8DNl",
      "authorship_tag": "ABX9TyMnz/Lur+PQUU6h2+qGjBbL",
      "include_colab_link": true
    },
    "kernelspec": {
      "name": "python3",
      "display_name": "Python 3"
    },
    "language_info": {
      "name": "python"
    },
    "accelerator": "GPU"
  },
  "cells": [
    {
      "cell_type": "markdown",
      "metadata": {
        "id": "view-in-github",
        "colab_type": "text"
      },
      "source": [
        "<a href=\"https://colab.research.google.com/github/gdutramartins/analise-embedding/blob/main/Analise_Comparativa_Modelos_Embedding_HF.ipynb\" target=\"_parent\"><img src=\"https://colab.research.google.com/assets/colab-badge.svg\" alt=\"Open In Colab\"/></a>"
      ]
    },
    {
      "cell_type": "markdown",
      "source": [
        "# Analise de Embeddings Huggingface\n",
        "Análise de modelos de embedding do Huggingfaces para msmarco"
      ],
      "metadata": {
        "id": "Nkx4YG2nJHIe"
      }
    },
    {
      "cell_type": "code",
      "source": [
        "pip install numpy faiss-cpu pandas sentence-transformers langchain langchain_community scikit-learn"
      ],
      "metadata": {
        "id": "PPo60XuoeDS2",
        "collapsed": true
      },
      "execution_count": null,
      "outputs": []
    },
    {
      "cell_type": "code",
      "execution_count": null,
      "metadata": {
        "id": "iaHJ-UWYd2WI"
      },
      "outputs": [],
      "source": [
        "import numpy as np\n",
        "import faiss\n",
        "import pandas as pd\n",
        "from sentence_transformers import SentenceTransformer\n",
        "from langchain.vectorstores import FAISS\n",
        "from langchain.embeddings import HuggingFaceEmbeddings\n",
        "from langchain.schema import Document\n",
        "from sklearn.metrics import ndcg_score\n",
        "import os\n",
        "import csv\n",
        "from typing import List, Tuple, Union, Dict, Any, Optional\n",
        "\n",
        "\n",
        "# Modelos de embedding\n",
        "models = {\n",
        "    \"Portuguese-BGE-M3\": \"nonola/portuguese-bge-m3\",\n",
        "    \"BAAI-BGE-M3\": \"BAAI/bge-m3\",\n",
        "    \"MiniLM\": \"sentence-transformers/all-MiniLM-L6-v2\"\n",
        "}\n",
        "\n"
      ]
    },
    {
      "cell_type": "code",
      "source": [
        "def carregar_modelo(nome_modelo) -> HuggingFaceEmbeddings:\n",
        "    if nome_modelo in models:\n",
        "        return HuggingFaceEmbeddings(model_name=models[nome_modelo])\n",
        "    else:\n",
        "        raise ValueError(f\"Modelo não suportado: {nome_modelo}\")"
      ],
      "metadata": {
        "id": "7GK70IRrIBZf"
      },
      "execution_count": null,
      "outputs": []
    },
    {
      "cell_type": "code",
      "source": [
        "def testar_embedding(documentos, modelo):\n",
        "  embeddings = modelo.embed_documents([doc.page_content for doc in documentos[:10]]) # Certifique-se que o modelo está gerando os embeddings corretamente\n",
        "  print(documentos[:10])\n",
        "  if not embeddings:\n",
        "    raise ValueError(\"A lista de embeddings está vazia.\")\n",
        "  else:\n",
        "    print(embeddings)\n"
      ],
      "metadata": {
        "id": "cvOcmv2VUszX"
      },
      "execution_count": null,
      "outputs": []
    },
    {
      "cell_type": "code",
      "source": [
        "def gravar_vetor_em_arquivo(vetor: List[Union[str, Tuple[str, Union[str, List[str]]]]], nome_arquivo: str) -> None:\n",
        "    \"\"\"\n",
        "    Grava um vetor em um arquivo de texto, formatando os itens de acordo com seus tipos.\n",
        "\n",
        "    A função suporta três tipos de itens no vetor:\n",
        "    1.  Strings simples: gravadas diretamente no arquivo.\n",
        "    2.  Tuplas (pergunta, resposta): gravadas como \"Pergunta: pergunta\" e \"Resposta: resposta\".\n",
        "    3.  Tuplas (pergunta, lista de respostas): gravadas como \"Pergunta: pergunta\" e várias linhas \"Resposta: resposta\" para cada item na lista.\n",
        "\n",
        "    Args:\n",
        "        vetor: Uma lista contendo strings, tuplas de string ou tuplas de string e lista de string.\n",
        "        nome_arquivo: O nome do arquivo onde o vetor será gravado.\n",
        "    \"\"\"\n",
        "    with open(nome_arquivo, \"w\") as arquivo:\n",
        "        for item in vetor:\n",
        "            if isinstance(item, tuple) and isinstance(item[1], list):  # Se for uma tupla onde o segundo item é lista\n",
        "                arquivo.write(f\"Pergunta: {item[0]}\\n\")\n",
        "                for resposta in item[1]:\n",
        "                    arquivo.write(f\"Resposta: {resposta}\\n\")  # Adiciona quebra de linha corretamente\n",
        "                arquivo.write(\"\\n\")  # Adiciona espaçamento entre blocos\n",
        "            elif isinstance(item, tuple):  # Se for uma tupla simples (pergunta, resposta única)\n",
        "                arquivo.write(f\"Pergunta: {item[0]}\\n\")\n",
        "                arquivo.write(f\"Resposta: {item[1]}\\n\\n\")  # Dupla quebra para espaçamento\n",
        "            else:  # Caso seja um item simples\n",
        "                arquivo.write(f\"{item}\\n\")"
      ],
      "metadata": {
        "id": "tAQJlDWPhcGZ"
      },
      "execution_count": null,
      "outputs": []
    },
    {
      "cell_type": "code",
      "source": [
        "def contar_tokens(texto: str, modelo: HuggingFaceEmbeddings) -> int:\n",
        "    \"\"\"Conta a quantidade de tokens no texto usando o tokenizer do modelo.\"\"\"\n",
        "    tokenizer = modelo.client.tokenizer  # Acessa o tokenizer do modelo\n",
        "    return len(tokenizer.encode(texto))"
      ],
      "metadata": {
        "id": "3Rxy1IkKLtnX"
      },
      "execution_count": null,
      "outputs": []
    },
    {
      "cell_type": "code",
      "source": [
        "# Função para criar documentos com metadados\n",
        "def criar_documento(texto, doc_id) -> Document :\n",
        "    return Document(page_content=texto, metadata={\"doc_id\": doc_id, \"original\": texto})\n",
        "\n",
        "# Função para criar FAISS com metadados\n",
        "def indexar_faiss(documentos: List[Document], modelo: HuggingFaceEmbeddings , caminho_index=\"faiss_index\") -> FAISS:\n",
        "  \"\"\"\n",
        "    Cria e salva um índice FAISS a partir de documentos.\n",
        "\n",
        "    Args:\n",
        "        documentos: Lista de objetos Documento a serem indexados.\n",
        "        modelo: Modelo de embeddings para vetorizar os documentos.\n",
        "        caminho_index: Caminho para salvar o índice FAISS.\n",
        "\n",
        "    Returns:\n",
        "        O objeto FAISS criado.\n",
        "  \"\"\"\n",
        "  print(\"Criando índice FAISS...\")\n",
        "  # Contagem total de tokens\n",
        "  total_tokens = sum(contar_tokens(doc.page_content, modelo) for doc in documentos)\n",
        "  print(f\"Total de tokens: {total_tokens}\")\n",
        "  vectorstore = FAISS.from_documents(documentos, modelo)\n",
        "  vectorstore.save_local(caminho_index)\n",
        "  return vectorstore\n",
        "\n",
        "# Função para carregar índice FAISS salvo\n",
        "def carregar_faiss(caminho_index, modelo) -> FAISS:\n",
        "    if os.path.exists(caminho_index):\n",
        "        return FAISS.load_local(caminho_index, modelo)\n",
        "    return None\n",
        "\n",
        "def buscar_faiss(vectorstore: FAISS, query: str, top_k: int = 5) -> List[Tuple[str, Dict[str, Any]]]:\n",
        "    \"\"\"\n",
        "    Realiza uma busca de similaridade em um índice FAISS.\n",
        "\n",
        "    A função recebe um índice FAISS, uma query de busca e um número opcional de resultados a retornar.\n",
        "    Retorna uma lista de tuplas, onde cada tupla contém o conteúdo do documento encontrado e seus metadados.\n",
        "\n",
        "    Args:\n",
        "        vectorstore: O índice FAISS onde a busca será realizada.\n",
        "        query: A query de busca.\n",
        "        top_k: O número de resultados a retornar (padrão: 5).\n",
        "\n",
        "    Returns:\n",
        "        Uma lista de tuplas, onde cada tupla contém:\n",
        "            - O conteúdo do documento (str).\n",
        "            - Um dicionário com os metadados do documento (Dict[str, Any]).\n",
        "    \"\"\"\n",
        "    resultados: List[Document] = vectorstore.similarity_search(query, k=top_k)\n",
        "    return [(res.page_content, res.metadata) for res in resultados]\n",
        "\n"
      ],
      "metadata": {
        "id": "6PVmiOH0iPFw"
      },
      "execution_count": null,
      "outputs": []
    },
    {
      "cell_type": "code",
      "source": [
        "def obter_conteudo_original_por_doc_id(documentos: List[Document], doc_id_desejado: int) -> Optional[str]:\n",
        "    \"\"\"\n",
        "    Obtém o conteúdo original de um documento pelo doc_id.\n",
        "\n",
        "    Args:\n",
        "        documentos: Uma lista de objetos Document.\n",
        "        doc_id_desejado: O doc_id do documento desejado.\n",
        "\n",
        "    Returns:\n",
        "        O conteúdo original do documento ou None se o doc_id não for encontrado.\n",
        "    \"\"\"\n",
        "    for doc in documentos:\n",
        "        if str(doc.metadata.get(\"doc_id\")) == str(doc_id_desejado):\n",
        "            return doc.metadata.get(\"original\")\n",
        "    raise ValueError(f\"Nenhum documento encontrado com doc_id: {doc_id_desejado}\")\n",
        "    return None"
      ],
      "metadata": {
        "id": "3cK9Gen8_gyc"
      },
      "execution_count": null,
      "outputs": []
    },
    {
      "cell_type": "code",
      "source": [
        "# Carregar subconjunto do MS MARCO com ranqueamento BM25\n",
        "def carregar_msmarco(caminho_collection, caminho_queries, caminho_qrels, caminho_bm25, num_queries=1000, num_posicoes_ranking=5) -> Tuple[List[Document], pd.DataFrame, pd.DataFrame]:\n",
        "    # Carregar documentos e queries\n",
        "    print(\"Carregando dados...\")\n",
        "    df_docs = pd.read_csv(caminho_collection, sep='\\t', quoting=csv.QUOTE_NONE,header=None, names=['doc_id', 'document'])\n",
        "    df_queries = pd.read_csv(caminho_queries, sep='\\t', header=None, names=['query_id', 'query'])\n",
        "    df_qrels = pd.read_csv(caminho_qrels, sep='\\t', header=None, names=['query_id', '0', 'doc_id', 'relevance'])\n",
        "    df_bm25 = pd.read_csv(caminho_bm25, sep='\\t', header=None, names=['query_id', 'doc_id', 'rank'])\n",
        "\n",
        "    # Filtrar apenas queries relevantes\n",
        "    print(\"Filtrando dados...\")\n",
        "    df_qrels = df_qrels[df_qrels['relevance'] > 0]  # Apenas docs relevantes\n",
        "    df_queriesl_filtered = df_queries[df_queries['query_id'].isin(df_qrels['query_id'])]\n",
        "    # Amostrar queries\n",
        "    sampled_queries = df_queriesl_filtered.sample(n=min(num_queries, len(df_queriesl_filtered)), random_state=42)\n",
        "\n",
        "    # Criar conjunto de documentos a partir de BM25\n",
        "    print(\"Criando conjunto de documentos a partir de BM25...\")\n",
        "    df_bm25_filtered = df_bm25[df_bm25['query_id'].isin(sampled_queries['query_id'])]\n",
        "    df_bm25_filtered = df_bm25_filtered[df_bm25_filtered['rank'] <= num_posicoes_ranking]  # Pegamos os 5 primeiros do ranking\n",
        "    df_docs_filtered = df_docs[df_docs['doc_id'].isin(df_bm25_filtered['doc_id'])]\n",
        "\n",
        "    # Identificar IDs faltantes, já que o BM25 não é um gabarito, mas a execução de um modelo\n",
        "    relevancias = df_qrels[df_qrels['query_id'].isin(sampled_queries['query_id'])]\n",
        "    doc_ids_relevancias = set(relevancias['doc_id'])\n",
        "    doc_ids_filtered = set(df_docs_filtered['doc_id'])\n",
        "    doc_ids_faltantes = doc_ids_relevancias - doc_ids_filtered\n",
        "\n",
        "    df_docs['doc_id'] = df_docs['doc_id'].astype(int)\n",
        "    # Adicionar IDs faltantes a df_docs_filtered\n",
        "    if doc_ids_faltantes:\n",
        "        print(f\"Adicionando {len(doc_ids_faltantes)} doc_ids faltantes a df_merged.\")\n",
        "        df_faltantes = df_docs[df_docs['doc_id'].isin(doc_ids_faltantes)]\n",
        "        df_docs_filtered = pd.concat([df_docs_filtered, df_faltantes], ignore_index=True)\n",
        "\n",
        "    # Criar documentos para FAISS\n",
        "    print(\"Criando documentos para FAISS...\")\n",
        "\n",
        "    documentos = [criar_documento(row['document'], row['doc_id']) for _, row in df_docs_filtered.iterrows()]\n",
        "    relevancias = df_qrels[df_qrels['query_id'].isin(sampled_queries['query_id'])]\n",
        "\n",
        "    return documentos, sampled_queries, relevancias"
      ],
      "metadata": {
        "id": "0SP52p6ViPjD"
      },
      "execution_count": null,
      "outputs": []
    },
    {
      "cell_type": "code",
      "source": [
        "def avaliar_modelo(nome_modelo: str, docs: List[Document], vectorstore: FAISS, queries: pd.DataFrame,\n",
        "                   relevancias: pd.DataFrame, top_k=5) -> Dict[str, float]:\n",
        "    \"\"\"\n",
        "    Avalia um modelo de busca utilizando métricas MRR, Recall@5 e NDCG@10.\n",
        "    \"\"\"\n",
        "    print(f\"Avaliando modelo... {nome_modelo}\")\n",
        "\n",
        "    estatisticas = {\n",
        "        \"acertos_completos\": [],\n",
        "        \"acertos_parciais_pos_2\": [],\n",
        "        \"acertos_parciais_pos_3\": [],\n",
        "        \"acertos_parciais_outros\": [],\n",
        "        \"erros\": []\n",
        "    }\n",
        "\n",
        "    mrr, recall, ndcg = 0, 0, 0\n",
        "    num_queries = len(queries)\n",
        "\n",
        "    for _, row in queries.iterrows():\n",
        "        query_id, query = row['query_id'], row['query']\n",
        "        resultados = buscar_faiss(vectorstore, query, top_k)\n",
        "        retrieved_ids = [res[1]['doc_id'] for res in resultados]\n",
        "        relevant_ids = relevancias[relevancias['query_id'] == query_id]['doc_id'].tolist()\n",
        "        resposta_correta = relevant_ids[0]\n",
        "\n",
        "        processar_resultado(query, resposta_correta, retrieved_ids, resultados, docs, estatisticas)\n",
        "\n",
        "        # Calculando métricas\n",
        "        mrr += 1 / (retrieved_ids.index(resposta_correta) + 1) if resposta_correta in retrieved_ids else 0\n",
        "        recall += len(set(retrieved_ids) & set(relevant_ids)) / len(relevant_ids)\n",
        "        ndcg += ndcg_score([[1 if doc in relevant_ids else 0 for doc in retrieved_ids]], [[1] * len(retrieved_ids)])\n",
        "\n",
        "    metricas = {\n",
        "        \"MRR@10\": mrr / num_queries,\n",
        "        \"Recall@5\": recall / num_queries,\n",
        "        \"NDCG@10\": ndcg / num_queries\n",
        "    }\n",
        "    salvar_resultados(nome_modelo, estatisticas, metricas)\n",
        "\n",
        "    return metricas\n"
      ],
      "metadata": {
        "id": "7dR9kG0DLcxU"
      },
      "execution_count": null,
      "outputs": []
    },
    {
      "cell_type": "code",
      "source": [
        "def processar_resultado(query, resposta_correta, retrieved_ids, resultados, docs, estatisticas):\n",
        "    \"\"\" Processa os resultados e classifica como acerto completo, parcial ou erro. \"\"\"\n",
        "    if retrieved_ids[0] == resposta_correta:\n",
        "        estatisticas[\"acertos_completos\"].append((query, resultados[0][1]['original']))\n",
        "    elif resposta_correta in retrieved_ids:\n",
        "        posicao = retrieved_ids.index(resposta_correta)\n",
        "        lista_retorno = [res[1]['original'] for res in resultados[:posicao + 1]]\n",
        "        lista_retorno[posicao] = '-->' + lista_retorno[posicao]\n",
        "        if posicao == 1:\n",
        "            estatisticas[\"acertos_parciais_pos_2\"].append((query, lista_retorno))\n",
        "        elif posicao == 2:\n",
        "            estatisticas[\"acertos_parciais_pos_3\"].append((query, lista_retorno))\n",
        "        else:\n",
        "            estatisticas[\"acertos_parciais_outros\"].append((query, lista_retorno))\n",
        "    else:\n",
        "        lista_retorno_erro = [res[1]['original'] for res in resultados]\n",
        "        texto_correto = obter_conteudo_original_por_doc_id(docs, resposta_correta)\n",
        "        lista_retorno_erro.append('-->' + texto_correto)\n",
        "        estatisticas[\"erros\"].append((query, lista_retorno_erro))\n"
      ],
      "metadata": {
        "id": "dYmSADilLc-j"
      },
      "execution_count": null,
      "outputs": []
    },
    {
      "cell_type": "code",
      "source": [
        "def salvar_resultados(nome_modelo: str, estatisticas: Dict[str, List], metricas: Dict[str,float]):\n",
        "    \"\"\" Salva os resultados da avaliação em arquivos. \"\"\"\n",
        "    resultado_texto = (f\"Acertos Completos: {len(estatisticas['acertos_completos'])}\\n\"\n",
        "                       f\"Acertos Parciais Posição 2: {len(estatisticas['acertos_parciais_pos_2'])}\\n\"\n",
        "                       f\"Acertos Parciais Posição 3: {len(estatisticas['acertos_parciais_pos_3'])}\\n\"\n",
        "                       f\"Acertos Parciais Outros: {len(estatisticas['acertos_parciais_outros'])}\\n\"\n",
        "                       f\"Erros: {len(estatisticas['erros'])}\\n\"\n",
        "                       f\"Métricas: {metricas}\")\n",
        "\n",
        "    with open(f\"resultado_{nome_modelo}.txt\", \"w\") as arquivo:\n",
        "        arquivo.write(resultado_texto)\n",
        "\n",
        "    for categoria, vetor in estatisticas.items():\n",
        "        gravar_vetor_em_arquivo(vetor, f\"{categoria}.txt\")\n"
      ],
      "metadata": {
        "id": "HfxV6TNXLdRF"
      },
      "execution_count": null,
      "outputs": []
    },
    {
      "cell_type": "code",
      "source": [
        "# Caminhos dos arquivos (ajustar conforme necessário)\n",
        "caminho_collection = \"/content/drive/MyDrive/dataset/nlp/semantica/msmarco/portuguese_collection.tsv\"\n",
        "caminho_queries = \"/content/drive/MyDrive/dataset/nlp/semantica/msmarco/portuguese_queries.dev.tsv\"\n",
        "caminho_qrels = \"/content/drive/MyDrive/dataset/nlp/semantica/msmarco/qrels.dev.tsv\"\n",
        "caminho_bm25 = \"/content/drive/MyDrive/dataset/nlp/semantica/msmarco/run.bm25_portuguese-msmarco.txt\"\n",
        "caminho_index = \"faiss_index\"\n",
        "nome_modelo = \"MiniLM\"\n",
        "#nome_modelo = \"Portuguese-BGE-M3\";\n",
        "#nome_modelo = \"BAAI-BGE-M3\"\n",
        "numero_posicoes_ranking_para_analise = 5\n",
        "\n",
        "print(f\"============= Análise modelo {nome_modelo} ==========================\")\n",
        "\n",
        "modelo = carregar_modelo(nome_modelo)\n",
        "\n",
        "# Carregar dados\n",
        "documentos,queries, relevancias = carregar_msmarco(caminho_collection, caminho_queries,\n",
        "                                                    caminho_qrels, caminho_bm25,\n",
        "                                                    num_queries=1000, num_posicoes_ranking=numero_posicoes_ranking_para_analise)\n",
        "\n",
        "# testar_embedding(documentos, modelo)\n",
        "\n",
        "# Verificar se FAISS já foi indexado\n",
        "vectorstore = carregar_faiss(caminho_index, modelo)\n",
        "if vectorstore is None:\n",
        "    vectorstore = indexar_faiss(documentos, modelo, caminho_index + \"_\" + nome_modelo)\n",
        "\n",
        "# Avaliando modelo\n",
        "metricas = avaliar_modelo(nome_modelo,\n",
        "                          documentos,\n",
        "                          vectorstore,\n",
        "                          queries,\n",
        "                          relevancias,\n",
        "                          top_k=numero_posicoes_ranking_para_analise)\n",
        "print(\"Métricas do modelo:\", metricas)"
      ],
      "metadata": {
        "colab": {
          "base_uri": "https://localhost:8080/"
        },
        "id": "3Zul8TP2ibkg",
        "outputId": "98aa3367-198c-4eac-b322-446399634eea"
      },
      "execution_count": null,
      "outputs": [
        {
          "output_type": "stream",
          "name": "stdout",
          "text": [
            "============= Análise modelo MiniLM ==========================\n",
            "Carregando dados...\n",
            "Filtrando dados...\n",
            "Criando conjunto de documentos a partir de BM25...\n",
            " Faltante está em merged\n",
            "Adicionando 1023 doc_ids faltantes a df_merged.\n",
            "Criando documentos para FAISS...\n"
          ]
        },
        {
          "output_type": "stream",
          "name": "stderr",
          "text": [
            "Token indices sequence length is longer than the specified maximum sequence length for this model (275 > 256). Running this sequence through the model will result in indexing errors\n"
          ]
        },
        {
          "output_type": "stream",
          "name": "stdout",
          "text": [
            "Criando índice FAISS...\n",
            "Total de tokens: 205455\n",
            "Avaliando modelo... MiniLM\n",
            "Métricas do modelo: {'MRR@10': 0.6044333333333332, 'Recall@5': 0.70875, 'NDCG@10': np.float64(0.4282189454741008)}\n"
          ]
        }
      ]
    }
  ]
}